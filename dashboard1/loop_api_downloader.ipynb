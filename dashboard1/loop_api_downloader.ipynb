import requests
import json
from google.colab import files

import os
url_base = "https://api.ons.gov.uk/timeseries/{}/dataset/MQ5/data"
file_base = "ons_json_{}.json"
// I chose data with the data set ID MQ5 
onsSeries = ['RFLY', 'IFYF','JWH2','JFH7','RARA','RKEN','JFG7',' AHVR',' RBQX',]

for i in onsSeries:  

   print("------Iteration Starts--------")
   print(i) 
 
   URL = url_base.format(i)
   print(URL)
   
   data = requests.get(URL).json()
   print(data)


   fileName = file_base.format(i)
   print(fileName)
   print("------Iteration Ends--------")

   with open(fileName, 'w', encoding='utf-8') as f:
     json.dump(data, f, ensure_ascii=False, indent=4)

   files.download(fileName)
